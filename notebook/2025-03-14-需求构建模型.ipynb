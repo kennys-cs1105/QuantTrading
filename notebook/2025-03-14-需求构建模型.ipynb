{
 "cells": [
  {
   "cell_type": "code",
   "execution_count": 3,
   "metadata": {},
   "outputs": [],
   "source": [
    "import akshare as ak\n",
    "import pandas as pd\n",
    "import numpy as np\n",
    "import talib\n",
    "import matplotlib.pyplot as plt\n",
    "from xgboost import XGBRegressor\n",
    "from sklearn.model_selection import train_test_split\n",
    "from sklearn.metrics import mean_squared_error"
   ]
  },
  {
   "cell_type": "markdown",
   "metadata": {},
   "source": [
    "# 云哥的一些需求\n",
    "\n",
    "请构建一个量化交易分析模型\n",
    "1. 请做一个右侧趋势的预测，比如5日线 20日线不破\n",
    "2. 日K KDJ的J值-1~-5 接下来5日 10日 和20日交易日的涨幅\n",
    "\n",
    "以最近的沪深300数据为数据集，构建分析模型"
   ]
  },
  {
   "cell_type": "markdown",
   "metadata": {},
   "source": [
    "# 一些操作\n",
    "\n",
    "1. Ta-Lib\n",
    "\n",
    "TaLib是一个Python金融指数处理库。包含了很多技术分析里的常用参数指标，例如MA、SMA、WMA、MACD、ATR等。\n",
    "\n",
    "```\n",
    "conda install -c conda-forge ta-lib  \n",
    "```\n"
   ]
  },
  {
   "cell_type": "markdown",
   "metadata": {},
   "source": [
    "## 检查指数代码"
   ]
  },
  {
   "cell_type": "code",
   "execution_count": 5,
   "metadata": {},
   "outputs": [
    {
     "name": "stdout",
     "output_type": "stream",
     "text": [
      "    index_code display_name publish_date\n",
      "0       000001         上证指数   1991-07-15\n",
      "1       000002         A股指数   1992-02-21\n",
      "2       000003         B股指数   1992-02-21\n",
      "3       000004         工业指数   1993-05-03\n",
      "4       000005         商业指数   1993-05-03\n",
      "..         ...          ...          ...\n",
      "720     399994   中证信息安全主题指数   2015-03-12\n",
      "721     399995     中证基建工程指数   2015-03-12\n",
      "722     399996     中证智能家居指数   2014-09-17\n",
      "723     399997       中证白酒指数   2015-01-21\n",
      "724     399998       中证煤炭指数   2015-02-13\n",
      "\n",
      "[725 rows x 3 columns]\n"
     ]
    }
   ],
   "source": [
    "# 查看指数列表\n",
    "index_list = ak.index_stock_info()\n",
    "print(index_list)"
   ]
  },
  {
   "cell_type": "code",
   "execution_count": 9,
   "metadata": {},
   "outputs": [],
   "source": [
    "hs300_info = index_list[index_list[\"display_name\"].str.contains('沪深300|HS300')]"
   ]
  },
  {
   "cell_type": "code",
   "execution_count": 10,
   "metadata": {},
   "outputs": [
    {
     "data": {
      "text/html": [
       "<div>\n",
       "<style scoped>\n",
       "    .dataframe tbody tr th:only-of-type {\n",
       "        vertical-align: middle;\n",
       "    }\n",
       "\n",
       "    .dataframe tbody tr th {\n",
       "        vertical-align: top;\n",
       "    }\n",
       "\n",
       "    .dataframe thead th {\n",
       "        text-align: right;\n",
       "    }\n",
       "</style>\n",
       "<table border=\"1\" class=\"dataframe\">\n",
       "  <thead>\n",
       "    <tr style=\"text-align: right;\">\n",
       "      <th></th>\n",
       "      <th>index_code</th>\n",
       "      <th>display_name</th>\n",
       "      <th>publish_date</th>\n",
       "    </tr>\n",
       "  </thead>\n",
       "  <tbody>\n",
       "    <tr>\n",
       "      <th>143</th>\n",
       "      <td>000300</td>\n",
       "      <td>沪深300</td>\n",
       "      <td>2005-04-08</td>\n",
       "    </tr>\n",
       "    <tr>\n",
       "      <th>203</th>\n",
       "      <td>000849</td>\n",
       "      <td>沪深300非银行金融指数</td>\n",
       "      <td>2012-12-21</td>\n",
       "    </tr>\n",
       "    <tr>\n",
       "      <th>204</th>\n",
       "      <td>000850</td>\n",
       "      <td>沪深300有色金属指数</td>\n",
       "      <td>2012-12-21</td>\n",
       "    </tr>\n",
       "    <tr>\n",
       "      <th>387</th>\n",
       "      <td>399300</td>\n",
       "      <td>沪深300</td>\n",
       "      <td>2005-04-08</td>\n",
       "    </tr>\n",
       "    <tr>\n",
       "      <th>639</th>\n",
       "      <td>399908</td>\n",
       "      <td>沪深300能源指数</td>\n",
       "      <td>2007-07-02</td>\n",
       "    </tr>\n",
       "    <tr>\n",
       "      <th>640</th>\n",
       "      <td>399909</td>\n",
       "      <td>沪深300原材料指数</td>\n",
       "      <td>2007-07-02</td>\n",
       "    </tr>\n",
       "    <tr>\n",
       "      <th>641</th>\n",
       "      <td>399910</td>\n",
       "      <td>沪深300工业指数</td>\n",
       "      <td>2007-07-02</td>\n",
       "    </tr>\n",
       "    <tr>\n",
       "      <th>642</th>\n",
       "      <td>399911</td>\n",
       "      <td>沪深300可选消费指数</td>\n",
       "      <td>2007-07-02</td>\n",
       "    </tr>\n",
       "    <tr>\n",
       "      <th>643</th>\n",
       "      <td>399912</td>\n",
       "      <td>沪深300主要消费指数</td>\n",
       "      <td>2007-07-02</td>\n",
       "    </tr>\n",
       "    <tr>\n",
       "      <th>644</th>\n",
       "      <td>399913</td>\n",
       "      <td>沪深300医药卫生指数</td>\n",
       "      <td>2007-07-02</td>\n",
       "    </tr>\n",
       "    <tr>\n",
       "      <th>645</th>\n",
       "      <td>399914</td>\n",
       "      <td>沪深300金融地产指数</td>\n",
       "      <td>2007-07-02</td>\n",
       "    </tr>\n",
       "    <tr>\n",
       "      <th>646</th>\n",
       "      <td>399915</td>\n",
       "      <td>沪深300信息技术指数</td>\n",
       "      <td>2007-07-02</td>\n",
       "    </tr>\n",
       "    <tr>\n",
       "      <th>647</th>\n",
       "      <td>399916</td>\n",
       "      <td>沪深300电信业务指数</td>\n",
       "      <td>2007-07-02</td>\n",
       "    </tr>\n",
       "    <tr>\n",
       "      <th>648</th>\n",
       "      <td>399917</td>\n",
       "      <td>沪深300公用事业指数</td>\n",
       "      <td>2007-07-02</td>\n",
       "    </tr>\n",
       "    <tr>\n",
       "      <th>649</th>\n",
       "      <td>399918</td>\n",
       "      <td>沪深300成长指数</td>\n",
       "      <td>2008-01-21</td>\n",
       "    </tr>\n",
       "    <tr>\n",
       "      <th>650</th>\n",
       "      <td>399919</td>\n",
       "      <td>沪深300价值指数</td>\n",
       "      <td>2008-01-21</td>\n",
       "    </tr>\n",
       "    <tr>\n",
       "      <th>651</th>\n",
       "      <td>399920</td>\n",
       "      <td>沪深300相对成长指数</td>\n",
       "      <td>2008-01-21</td>\n",
       "    </tr>\n",
       "    <tr>\n",
       "      <th>678</th>\n",
       "      <td>399950</td>\n",
       "      <td>沪深300基建主题指数</td>\n",
       "      <td>2009-10-28</td>\n",
       "    </tr>\n",
       "    <tr>\n",
       "      <th>679</th>\n",
       "      <td>399951</td>\n",
       "      <td>沪深300银行指数</td>\n",
       "      <td>2009-10-28</td>\n",
       "    </tr>\n",
       "    <tr>\n",
       "      <th>680</th>\n",
       "      <td>399952</td>\n",
       "      <td>沪深300地产指数</td>\n",
       "      <td>2009-10-28</td>\n",
       "    </tr>\n",
       "    <tr>\n",
       "      <th>685</th>\n",
       "      <td>399957</td>\n",
       "      <td>沪深300运输指数</td>\n",
       "      <td>2009-06-16</td>\n",
       "    </tr>\n",
       "    <tr>\n",
       "      <th>696</th>\n",
       "      <td>399968</td>\n",
       "      <td>沪深300周期行业指数</td>\n",
       "      <td>2010-05-28</td>\n",
       "    </tr>\n",
       "    <tr>\n",
       "      <th>697</th>\n",
       "      <td>399969</td>\n",
       "      <td>沪深300非周期行业指数</td>\n",
       "      <td>2010-05-28</td>\n",
       "    </tr>\n",
       "    <tr>\n",
       "      <th>709</th>\n",
       "      <td>399981</td>\n",
       "      <td>沪深300行业分层等权重指数</td>\n",
       "      <td>2011-06-13</td>\n",
       "    </tr>\n",
       "    <tr>\n",
       "      <th>711</th>\n",
       "      <td>399983</td>\n",
       "      <td>沪深300地产等权重指数</td>\n",
       "      <td>2013-11-22</td>\n",
       "    </tr>\n",
       "  </tbody>\n",
       "</table>\n",
       "</div>"
      ],
      "text/plain": [
       "    index_code    display_name publish_date\n",
       "143     000300           沪深300   2005-04-08\n",
       "203     000849    沪深300非银行金融指数   2012-12-21\n",
       "204     000850     沪深300有色金属指数   2012-12-21\n",
       "387     399300           沪深300   2005-04-08\n",
       "639     399908       沪深300能源指数   2007-07-02\n",
       "640     399909      沪深300原材料指数   2007-07-02\n",
       "641     399910       沪深300工业指数   2007-07-02\n",
       "642     399911     沪深300可选消费指数   2007-07-02\n",
       "643     399912     沪深300主要消费指数   2007-07-02\n",
       "644     399913     沪深300医药卫生指数   2007-07-02\n",
       "645     399914     沪深300金融地产指数   2007-07-02\n",
       "646     399915     沪深300信息技术指数   2007-07-02\n",
       "647     399916     沪深300电信业务指数   2007-07-02\n",
       "648     399917     沪深300公用事业指数   2007-07-02\n",
       "649     399918       沪深300成长指数   2008-01-21\n",
       "650     399919       沪深300价值指数   2008-01-21\n",
       "651     399920     沪深300相对成长指数   2008-01-21\n",
       "678     399950     沪深300基建主题指数   2009-10-28\n",
       "679     399951       沪深300银行指数   2009-10-28\n",
       "680     399952       沪深300地产指数   2009-10-28\n",
       "685     399957       沪深300运输指数   2009-06-16\n",
       "696     399968     沪深300周期行业指数   2010-05-28\n",
       "697     399969    沪深300非周期行业指数   2010-05-28\n",
       "709     399981  沪深300行业分层等权重指数   2011-06-13\n",
       "711     399983    沪深300地产等权重指数   2013-11-22"
      ]
     },
     "execution_count": 10,
     "metadata": {},
     "output_type": "execute_result"
    }
   ],
   "source": [
    "hs300_info"
   ]
  },
  {
   "cell_type": "code",
   "execution_count": 11,
   "metadata": {},
   "outputs": [
    {
     "data": {
      "text/plain": [
       "pandas.core.frame.DataFrame"
      ]
     },
     "execution_count": 11,
     "metadata": {},
     "output_type": "execute_result"
    }
   ],
   "source": [
    "type(hs300_info)"
   ]
  },
  {
   "cell_type": "markdown",
   "metadata": {},
   "source": [
    "## 沪深300数据"
   ]
  },
  {
   "cell_type": "code",
   "execution_count": 12,
   "metadata": {},
   "outputs": [],
   "source": [
    "# 获取沪深300数据\n",
    "data = ak.index_zh_a_hist(symbol=\"000300\", period=\"daily\", start_date=\"2020-01-01\", end_date=\"2025-01-01\")\n",
    "data['date'] = pd.to_datetime(data['日期'])\n",
    "data.set_index('date', inplace=True)\n",
    "data = data[['收盘', '最高', '最低', '开盘', '成交量']]\n",
    "data.columns = ['close', 'high', 'low', 'open', 'volume']"
   ]
  },
  {
   "cell_type": "markdown",
   "metadata": {},
   "source": []
  }
 ],
 "metadata": {
  "kernelspec": {
   "display_name": "torch",
   "language": "python",
   "name": "python3"
  },
  "language_info": {
   "codemirror_mode": {
    "name": "ipython",
    "version": 3
   },
   "file_extension": ".py",
   "mimetype": "text/x-python",
   "name": "python",
   "nbconvert_exporter": "python",
   "pygments_lexer": "ipython3",
   "version": "3.10.14"
  }
 },
 "nbformat": 4,
 "nbformat_minor": 2
}
